{
 "cells": [
  {
   "cell_type": "code",
   "execution_count": 6,
   "id": "5a9087c5",
   "metadata": {},
   "outputs": [
    {
     "name": "stdout",
     "output_type": "stream",
     "text": [
      "30\n",
      "-5\n",
      "0\n",
      "5\n"
     ]
    }
   ],
   "source": [
    "!g++ bai2a.c -o bai_a\n",
    "!./bai_a <baia_t1.inp> out1.txt\n",
    "!cat out1.txt\n",
    "!./bai_a <baia_t2.inp> out2.txt\n",
    "!cat out2.txt\n",
    "!./bai_a <baia_t3.inp> out3.txt\n",
    "!cat out3.txt\n",
    "!./bai_a <baia_t4.inp> out4.txt\n",
    "!cat out4.txt"
   ]
  },
  {
   "cell_type": "code",
   "execution_count": 4,
   "id": "b555ad64",
   "metadata": {},
   "outputs": [
    {
     "name": "stdout",
     "output_type": "stream",
     "text": [
      "Writing baia_t4.inp\n"
     ]
    }
   ],
   "source": [
    "%%writefile baia_t4.inp\n",
    "-5"
   ]
  },
  {
   "cell_type": "code",
   "execution_count": 3,
   "id": "ab9e6fb3",
   "metadata": {},
   "outputs": [
    {
     "name": "stdout",
     "output_type": "stream",
     "text": [
      "Writing baia_t3.inp\n"
     ]
    }
   ],
   "source": [
    "%%writefile baia_t3.inp\n",
    "0"
   ]
  },
  {
   "cell_type": "code",
   "execution_count": 2,
   "id": "0fdbec20",
   "metadata": {},
   "outputs": [
    {
     "name": "stdout",
     "output_type": "stream",
     "text": [
      "Writing baia_t2.inp\n"
     ]
    }
   ],
   "source": [
    "%%writefile baia_t2.inp\n",
    "5"
   ]
  },
  {
   "cell_type": "code",
   "execution_count": 1,
   "id": "f84157f8",
   "metadata": {},
   "outputs": [
    {
     "name": "stdout",
     "output_type": "stream",
     "text": [
      "Writing baia_t1.inp\n"
     ]
    }
   ],
   "source": [
    "%%writefile baia_t1.inp\n",
    "15"
   ]
  }
 ],
 "metadata": {
  "kernelspec": {
   "display_name": "Python 3",
   "language": "python",
   "name": "python3"
  },
  "language_info": {
   "codemirror_mode": {
    "name": "ipython",
    "version": 3
   },
   "file_extension": ".py",
   "mimetype": "text/x-python",
   "name": "python",
   "nbconvert_exporter": "python",
   "pygments_lexer": "ipython3",
   "version": "3.12.1"
  }
 },
 "nbformat": 4,
 "nbformat_minor": 5
}
