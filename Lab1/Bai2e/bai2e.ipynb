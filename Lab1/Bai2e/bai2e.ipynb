{
 "cells": [
  {
   "cell_type": "code",
   "execution_count": 2,
   "id": "67a6defc",
   "metadata": {},
   "outputs": [
    {
     "name": "stdout",
     "output_type": "stream",
     "text": [
      "Writing baie_t1.inp\n"
     ]
    }
   ],
   "source": [
    "%%writefile baie_t1.inp\n",
    "9 5 3"
   ]
  },
  {
   "cell_type": "code",
   "execution_count": 3,
   "id": "d4373d28",
   "metadata": {},
   "outputs": [
    {
     "name": "stdout",
     "output_type": "stream",
     "text": [
      "Writing baie_t2.inp\n"
     ]
    }
   ],
   "source": [
    "%%writefile baie_t2.inp\n",
    "4 8 2"
   ]
  },
  {
   "cell_type": "code",
   "execution_count": 4,
   "id": "96a54fd1",
   "metadata": {},
   "outputs": [
    {
     "name": "stdout",
     "output_type": "stream",
     "text": [
      "Writing baie_t3.inp\n"
     ]
    }
   ],
   "source": [
    "%%writefile baie_t3.inp\n",
    "1 7 10"
   ]
  },
  {
   "cell_type": "code",
   "execution_count": 5,
   "id": "0dc41834",
   "metadata": {},
   "outputs": [
    {
     "name": "stdout",
     "output_type": "stream",
     "text": [
      "Writing baie_t4.inp\n"
     ]
    }
   ],
   "source": [
    "%%writefile baie_t4.inp\n",
    "7 7 5"
   ]
  },
  {
   "cell_type": "code",
   "execution_count": 6,
   "id": "3de1725d",
   "metadata": {},
   "outputs": [
    {
     "name": "stdout",
     "output_type": "stream",
     "text": [
      "Writing baie_t5.inp\n"
     ]
    }
   ],
   "source": [
    "%%writefile baie_t5.inp\n",
    "6 2 6"
   ]
  },
  {
   "cell_type": "code",
   "execution_count": 7,
   "id": "a5dc8c60",
   "metadata": {},
   "outputs": [
    {
     "name": "stdout",
     "output_type": "stream",
     "text": [
      "Writing baie_t6.inp\n"
     ]
    }
   ],
   "source": [
    "%%writefile baie_t6.inp\n",
    "2 9 9"
   ]
  },
  {
   "cell_type": "code",
   "execution_count": 8,
   "id": "ac0e2557",
   "metadata": {},
   "outputs": [
    {
     "name": "stdout",
     "output_type": "stream",
     "text": [
      "Writing baie_t7.inp\n"
     ]
    }
   ],
   "source": [
    "%%writefile baie_t7.inp\n",
    "5 5 5"
   ]
  },
  {
   "cell_type": "code",
   "execution_count": 9,
   "id": "83c304a6",
   "metadata": {},
   "outputs": [
    {
     "name": "stdout",
     "output_type": "stream",
     "text": [
      "Writing baie_t8.inp\n"
     ]
    }
   ],
   "source": [
    "%%writefile baie_t8.inp\n",
    "-1 -5 -3"
   ]
  },
  {
   "cell_type": "code",
   "execution_count": 10,
   "id": "f111d91a",
   "metadata": {},
   "outputs": [
    {
     "name": "stdout",
     "output_type": "stream",
     "text": [
      "Writing baie_t9.inp\n"
     ]
    }
   ],
   "source": [
    "%%writefile baie_t9.inp\n",
    "0 -2 -5"
   ]
  },
  {
   "cell_type": "code",
   "execution_count": 11,
   "id": "fe2a5e4a",
   "metadata": {},
   "outputs": [
    {
     "name": "stdout",
     "output_type": "stream",
     "text": [
      "Writing baie_t10.inp\n"
     ]
    }
   ],
   "source": [
    "%%writefile baie_t10.inp\n",
    "-10 0 -20"
   ]
  },
  {
   "cell_type": "code",
   "execution_count": 12,
   "id": "c42527f3",
   "metadata": {},
   "outputs": [
    {
     "name": "stdout",
     "output_type": "stream",
     "text": [
      "9\n",
      "8\n",
      "10\n",
      "0\n",
      "0\n",
      "0\n",
      "0\n",
      "-1\n",
      "0\n",
      "0\n"
     ]
    }
   ],
   "source": [
    "!g++ bai2e.c -o bai_e       \n",
    "!./bai_e <baie_t1.inp> out1.txt\n",
    "!cat out1.txt\n",
    "!./bai_e <baie_t2.inp> out2.txt\n",
    "!cat out2.txt\n",
    "!./bai_e <baie_t3.inp> out3.txt\n",
    "!cat out3.txt\n",
    "!./bai_e <baie_t4.inp> out4.txt\n",
    "!cat out4.txt\n",
    "!./bai_e <baie_t5.inp> out5.txt\n",
    "!cat out5.txt\n",
    "!./bai_e <baie_t6.inp> out6.txt\n",
    "!cat out6.txt\n",
    "!./bai_e <baie_t7.inp> out7.txt\n",
    "!cat out7.txt\n",
    "!./bai_e <baie_t8.inp> out8.txt\n",
    "!cat out8.txt\n",
    "!./bai_e <baie_t9.inp> out9.txt\n",
    "!cat out9.txt\n",
    "!./bai_e <baie_t10.inp> out10.txt\n",
    "!cat out10.txt"
   ]
  }
 ],
 "metadata": {
  "kernelspec": {
   "display_name": "Python 3",
   "language": "python",
   "name": "python3"
  },
  "language_info": {
   "codemirror_mode": {
    "name": "ipython",
    "version": 3
   },
   "file_extension": ".py",
   "mimetype": "text/x-python",
   "name": "python",
   "nbconvert_exporter": "python",
   "pygments_lexer": "ipython3",
   "version": "3.12.1"
  }
 },
 "nbformat": 4,
 "nbformat_minor": 5
}
