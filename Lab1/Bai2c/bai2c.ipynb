{
 "cells": [
  {
   "cell_type": "code",
   "execution_count": 10,
   "id": "0f9f4eba",
   "metadata": {},
   "outputs": [
    {
     "name": "stdout",
     "output_type": "stream",
     "text": [
      "30\n",
      "20\n",
      "14\n",
      "4\n",
      "Expected: -1\n",
      "2\n",
      "Expected: 2\n",
      "-4\n"
     ]
    }
   ],
   "source": [
    "!g++ bai2c.c -o bai_c       \n",
    "!./bai_c <baic_t1.inp> out1.txt\n",
    "!cat out1.txt\n",
    "!./bai_c <baic_t2.inp> out2.txt\n",
    "!cat out2.txt\n",
    "!./bai_c <baic_t3.inp> out3.txt\n",
    "!cat out3.txt\n",
    "!./bai_c <baic_t4.inp> out4.txt\n",
    "!cat out4.txt\n",
    "!./bai_c <baic_t5.inp> out5.txt\n",
    "!echo \"Expected: -1\"\n",
    "!cat out5.txt\n",
    "!./bai_c <baic_t6.inp> out6.txt\n",
    "!echo \"Expected: 2\"\n",
    "!cat out6.txt"
   ]
  },
  {
   "cell_type": "code",
   "execution_count": 6,
   "id": "feb6409c",
   "metadata": {},
   "outputs": [
    {
     "name": "stdout",
     "output_type": "stream",
     "text": [
      "Writing baic_t6.inp\n"
     ]
    }
   ],
   "source": [
    "%%writefile baic_t6.inp\n",
    "-2"
   ]
  },
  {
   "cell_type": "code",
   "execution_count": 5,
   "id": "1d9ac832",
   "metadata": {},
   "outputs": [
    {
     "name": "stdout",
     "output_type": "stream",
     "text": [
      "Writing baic_t5.inp\n"
     ]
    }
   ],
   "source": [
    "%%writefile baic_t5.inp\n",
    "1"
   ]
  },
  {
   "cell_type": "code",
   "execution_count": 4,
   "id": "8cd45572",
   "metadata": {},
   "outputs": [
    {
     "name": "stdout",
     "output_type": "stream",
     "text": [
      "Writing baic_t4.inp\n"
     ]
    }
   ],
   "source": [
    "%%writefile baic_t4.inp\n",
    "2"
   ]
  },
  {
   "cell_type": "code",
   "execution_count": 3,
   "id": "ccc76b4f",
   "metadata": {},
   "outputs": [
    {
     "name": "stdout",
     "output_type": "stream",
     "text": [
      "Writing baic_t3.inp\n"
     ]
    }
   ],
   "source": [
    "%%writefile baic_t3.inp\n",
    "7"
   ]
  },
  {
   "cell_type": "code",
   "execution_count": 2,
   "id": "b40e7248",
   "metadata": {},
   "outputs": [
    {
     "name": "stdout",
     "output_type": "stream",
     "text": [
      "Writing baic_t2.inp\n"
     ]
    }
   ],
   "source": [
    "%%writefile baic_t2.inp\n",
    "10"
   ]
  },
  {
   "cell_type": "code",
   "execution_count": 1,
   "id": "d090ccf0",
   "metadata": {},
   "outputs": [
    {
     "name": "stdout",
     "output_type": "stream",
     "text": [
      "Writing baic_t1.inp\n"
     ]
    }
   ],
   "source": [
    "%%writefile baic_t1.inp\n",
    "15"
   ]
  }
 ],
 "metadata": {
  "kernelspec": {
   "display_name": "Python 3",
   "language": "python",
   "name": "python3"
  },
  "language_info": {
   "codemirror_mode": {
    "name": "ipython",
    "version": 3
   },
   "file_extension": ".py",
   "mimetype": "text/x-python",
   "name": "python",
   "nbconvert_exporter": "python",
   "pygments_lexer": "ipython3",
   "version": "3.12.1"
  }
 },
 "nbformat": 4,
 "nbformat_minor": 5
}
