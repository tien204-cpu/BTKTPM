{
 "cells": [
  {
   "cell_type": "code",
   "execution_count": null,
   "id": "9eddf3c1",
   "metadata": {},
   "outputs": [],
   "source": [
    "%%writefile baid_t1.inp\n",
    "1"
   ]
  },
  {
   "cell_type": "code",
   "execution_count": null,
   "id": "3e736683",
   "metadata": {},
   "outputs": [],
   "source": [
    "%%writefile baid_t2.inp\n",
    "3"
   ]
  },
  {
   "cell_type": "code",
   "execution_count": null,
   "id": "79ac7511",
   "metadata": {},
   "outputs": [],
   "source": [
    "%%writefile baid_t3.inp\n",
    "-1"
   ]
  },
  {
   "cell_type": "code",
   "execution_count": null,
   "id": "e894a7c6",
   "metadata": {},
   "outputs": [],
   "source": [
    "%%writefile baid_t4.inp\n",
    "-3"
   ]
  },
  {
   "cell_type": "code",
   "execution_count": null,
   "id": "cd62454c",
   "metadata": {},
   "outputs": [],
   "source": [
    "%%writefile baid_t5.inp\n",
    "0"
   ]
  },
  {
   "cell_type": "code",
   "execution_count": null,
   "id": "6e2b7bb1",
   "metadata": {},
   "outputs": [],
   "source": [
    "!g++ bai2d.c -o bai_d       \n",
    "!./bai_d <baid_t1.inp> out1.txt\n",
    "!cat out1.txt\n",
    "!./bai_d <baid_t2.inp> out2.txt\n",
    "!cat out2.txt\n",
    "!./bai_d <baid_t3.inp> out3.txt\n",
    "!cat out3.txt\n",
    "!./bai_d <baid_t4.inp> out4.txt\n",
    "!cat out4.txt\n",
    "!./bai_d <baid_t5.inp> out5.txt\n",
    "!cat out5.txt"
   ]
  }
 ],
 "metadata": {
  "language_info": {
   "name": "python"
  }
 },
 "nbformat": 4,
 "nbformat_minor": 5
}
