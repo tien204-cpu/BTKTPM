{
 "cells": [
  {
   "cell_type": "code",
   "execution_count": 9,
   "id": "5a9087c5",
   "metadata": {},
   "outputs": [
    {
     "name": "stdout",
     "output_type": "stream",
     "text": [
      "30\n",
      "-8\n",
      "-8\n",
      "0\n"
     ]
    }
   ],
   "source": [
    "!g++ bai2b.c -o bai_b\n",
    "!./bai_b <baib_t1.inp> out1.txt\n",
    "!cat out1.txt\n",
    "!./bai_b <baib_t2.inp> out2.txt\n",
    "!cat out2.txt\n",
    "!./bai_b <baib_t3.inp> out3.txt\n",
    "!cat out3.txt\n",
    "!./bai_b <baib_t4.inp> out4.txt\n",
    "!cat out4.txt"
   ]
  },
  {
   "cell_type": "code",
   "execution_count": 6,
   "id": "c67e51c2",
   "metadata": {},
   "outputs": [
    {
     "name": "stdout",
     "output_type": "stream",
     "text": [
      "Writing baib_t4.inp\n"
     ]
    }
   ],
   "source": [
    "%%writefile baib_t4.inp\n",
    "0"
   ]
  },
  {
   "cell_type": "code",
   "execution_count": 8,
   "id": "ab9e6fb3",
   "metadata": {},
   "outputs": [
    {
     "name": "stdout",
     "output_type": "stream",
     "text": [
      "Writing baib_t3.inp\n"
     ]
    }
   ],
   "source": [
    "%%writefile baib_t3.inp\n",
    "-4"
   ]
  },
  {
   "cell_type": "code",
   "execution_count": 2,
   "id": "0fdbec20",
   "metadata": {},
   "outputs": [
    {
     "name": "stdout",
     "output_type": "stream",
     "text": [
      "Writing baib_t2.inp\n"
     ]
    }
   ],
   "source": [
    "%%writefile baib_t2.inp\n",
    "8"
   ]
  },
  {
   "cell_type": "code",
   "execution_count": 1,
   "id": "f84157f8",
   "metadata": {},
   "outputs": [
    {
     "name": "stdout",
     "output_type": "stream",
     "text": [
      "Writing baib_t1.inp\n"
     ]
    }
   ],
   "source": [
    "%%writefile baib_t1.inp\n",
    "15"
   ]
  }
 ],
 "metadata": {
  "kernelspec": {
   "display_name": "Python 3",
   "language": "python",
   "name": "python3"
  },
  "language_info": {
   "codemirror_mode": {
    "name": "ipython",
    "version": 3
   },
   "file_extension": ".py",
   "mimetype": "text/x-python",
   "name": "python",
   "nbconvert_exporter": "python",
   "pygments_lexer": "ipython3",
   "version": "3.12.1"
  }
 },
 "nbformat": 4,
 "nbformat_minor": 5
}
