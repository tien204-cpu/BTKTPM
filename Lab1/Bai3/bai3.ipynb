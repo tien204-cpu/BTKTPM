{
 "cells": [
  {
   "cell_type": "code",
   "execution_count": 1,
   "id": "67a6defc",
   "metadata": {},
   "outputs": [
    {
     "name": "stdout",
     "output_type": "stream",
     "text": [
      "Writing bai3_t1.inp\n"
     ]
    }
   ],
   "source": [
    "%%writefile bai3_t1.inp\n",
    "0 0 0"
   ]
  },
  {
   "cell_type": "code",
   "execution_count": 2,
   "id": "d4373d28",
   "metadata": {},
   "outputs": [
    {
     "name": "stdout",
     "output_type": "stream",
     "text": [
      "Writing bai3_t2.inp\n"
     ]
    }
   ],
   "source": [
    "%%writefile bai3_t2.inp\n",
    "0 0 5"
   ]
  },
  {
   "cell_type": "code",
   "execution_count": 3,
   "id": "96a54fd1",
   "metadata": {},
   "outputs": [
    {
     "name": "stdout",
     "output_type": "stream",
     "text": [
      "Writing bai3_t3.inp\n"
     ]
    }
   ],
   "source": [
    "%%writefile bai3_t3.inp\n",
    "0 2 -8"
   ]
  },
  {
   "cell_type": "code",
   "execution_count": 4,
   "id": "0dc41834",
   "metadata": {},
   "outputs": [
    {
     "name": "stdout",
     "output_type": "stream",
     "text": [
      "Writing bai3_t4.inp\n"
     ]
    }
   ],
   "source": [
    "%%writefile bai3_t4.inp\n",
    "1 0 -4"
   ]
  },
  {
   "cell_type": "code",
   "execution_count": 5,
   "id": "3de1725d",
   "metadata": {},
   "outputs": [
    {
     "name": "stdout",
     "output_type": "stream",
     "text": [
      "Writing bai3_t5.inp\n"
     ]
    }
   ],
   "source": [
    "%%writefile bai3_t5.inp\n",
    "1 -5 4"
   ]
  },
  {
   "cell_type": "code",
   "execution_count": 6,
   "id": "a5dc8c60",
   "metadata": {},
   "outputs": [
    {
     "name": "stdout",
     "output_type": "stream",
     "text": [
      "Writing bai3_t6.inp\n"
     ]
    }
   ],
   "source": [
    "%%writefile bai3_t6.inp\n",
    "1 2 10"
   ]
  },
  {
   "cell_type": "code",
   "execution_count": 7,
   "id": "ac0e2557",
   "metadata": {},
   "outputs": [
    {
     "name": "stdout",
     "output_type": "stream",
     "text": [
      "Writing bai3_t7.inp\n"
     ]
    }
   ],
   "source": [
    "%%writefile bai3_t7.inp\n",
    "1 -2 1"
   ]
  },
  {
   "cell_type": "code",
   "execution_count": 8,
   "id": "83c304a6",
   "metadata": {},
   "outputs": [
    {
     "name": "stdout",
     "output_type": "stream",
     "text": [
      "Writing bai3_t8.inp\n"
     ]
    }
   ],
   "source": [
    "%%writefile bai3_t8.inp\n",
    "-1 -5 -6"
   ]
  },
  {
   "cell_type": "code",
   "execution_count": 9,
   "id": "c42527f3",
   "metadata": {},
   "outputs": [
    {
     "name": "stdout",
     "output_type": "stream",
     "text": [
      " Infinite solutions.\n",
      "No solution.\n",
      " The equation has 2 real solution(s): 2 -2 \n",
      " The equation has 2 real solution(s): 1.41421 -1.41421 \n",
      " The equation has 4 real solution(s): 2 -2 1 -1 \n",
      "No solution.\n",
      " The equation has 2 real solution(s): 1 -1 \n",
      "No solution.\n"
     ]
    }
   ],
   "source": [
    "!g++ bai3.cpp -o bai_3       \n",
    "!./bai_3 <bai3_t1.inp> out1.txt\n",
    "!cat out1.txt\n",
    "!./bai_3 <bai3_t2.inp> out2.txt\n",
    "!cat out2.txt\n",
    "!./bai_3 <bai3_t3.inp> out3.txt\n",
    "!cat out3.txt\n",
    "!./bai_3 <bai3_t4.inp> out4.txt\n",
    "!cat out4.txt\n",
    "!./bai_3 <bai3_t5.inp> out5.txt\n",
    "!cat out5.txt\n",
    "!./bai_3 <bai3_t6.inp> out6.txt\n",
    "!cat out6.txt\n",
    "!./bai_3 <bai3_t7.inp> out7.txt\n",
    "!cat out7.txt\n",
    "!./bai_3 <bai3_t8.inp> out8.txt\n",
    "!cat out8.txt"
   ]
  }
 ],
 "metadata": {
  "kernelspec": {
   "display_name": "Python 3",
   "language": "python",
   "name": "python3"
  },
  "language_info": {
   "codemirror_mode": {
    "name": "ipython",
    "version": 3
   },
   "file_extension": ".py",
   "mimetype": "text/x-python",
   "name": "python",
   "nbconvert_exporter": "python",
   "pygments_lexer": "ipython3",
   "version": "3.12.1"
  }
 },
 "nbformat": 4,
 "nbformat_minor": 5
}
